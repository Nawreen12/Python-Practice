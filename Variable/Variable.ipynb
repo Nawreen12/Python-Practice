{
 "cells": [
  {
   "cell_type": "code",
   "execution_count": 1,
   "id": "be0bb9d4-8e59-4870-9688-6bcd1d4e3b9d",
   "metadata": {},
   "outputs": [
    {
     "name": "stdout",
     "output_type": "stream",
     "text": [
      "Hellow World\n"
     ]
    }
   ],
   "source": [
    "print ('Hellow World')"
   ]
  },
  {
   "cell_type": "code",
   "execution_count": 5,
   "id": "b6ef7019-38cf-46ee-a903-342046844011",
   "metadata": {},
   "outputs": [],
   "source": [
    "# First Notebook"
   ]
  },
  {
   "cell_type": "code",
   "execution_count": 39,
   "id": "b6afbc54-4179-4746-a39c-5425908d05b8",
   "metadata": {},
   "outputs": [
    {
     "name": "stdout",
     "output_type": "stream",
     "text": [
      "22\n"
     ]
    }
   ],
   "source": [
    "X = 22\n",
    "print (X)\n"
   ]
  },
  {
   "cell_type": "code",
   "execution_count": 7,
   "id": "cbc0ff92-4367-4453-a4d6-db3ace62573e",
   "metadata": {},
   "outputs": [
    {
     "data": {
      "text/plain": [
       "int"
      ]
     },
     "execution_count": 7,
     "metadata": {},
     "output_type": "execute_result"
    }
   ],
   "source": [
    "type (X)"
   ]
  },
  {
   "cell_type": "code",
   "execution_count": 23,
   "id": "d70fee86-1922-42fe-8767-5dfd0cd9cf3e",
   "metadata": {},
   "outputs": [
    {
     "data": {
      "text/plain": [
       "str"
      ]
     },
     "execution_count": 23,
     "metadata": {},
     "output_type": "execute_result"
    }
   ],
   "source": [
    "type (Y)"
   ]
  },
  {
   "cell_type": "code",
   "execution_count": 49,
   "id": "fde623db-231b-49d1-8f01-0497e9ed7f3d",
   "metadata": {},
   "outputs": [
    {
     "name": "stdout",
     "output_type": "stream",
     "text": [
      "22\n"
     ]
    }
   ],
   "source": [
    "X = 22\n",
    "print (X)"
   ]
  },
  {
   "cell_type": "code",
   "execution_count": 55,
   "id": "7a4b867c-be66-4140-8156-768d17d60644",
   "metadata": {},
   "outputs": [
    {
     "name": "stdout",
     "output_type": "stream",
     "text": [
      "Tea\n"
     ]
    }
   ],
   "source": [
    "Y='Tea'\n",
    "y= 'Coffee'\n",
    "print(Y)"
   ]
  },
  {
   "cell_type": "code",
   "execution_count": 59,
   "id": "b136ddc5-6632-4378-80c0-c9046323e417",
   "metadata": {},
   "outputs": [
    {
     "name": "stdout",
     "output_type": "stream",
     "text": [
      "Tea\n",
      "Coffee\n",
      "Soft deinks\n"
     ]
    }
   ],
   "source": [
    "x,y,z ='Tea','Coffee','Soft deinks'\n",
    "print(x)\n",
    "print(y)\n",
    "print(z)"
   ]
  },
  {
   "cell_type": "code",
   "execution_count": 65,
   "id": "b33d3ad3-23ea-4eb0-a81d-bf967b167013",
   "metadata": {},
   "outputs": [
    {
     "name": "stdout",
     "output_type": "stream",
     "text": [
      "Water\n",
      "Water\n",
      "Water\n"
     ]
    }
   ],
   "source": [
    "x=y=z= 'Water'\n",
    "print(x)\n",
    "print(y)\n",
    "print(z)"
   ]
  },
  {
   "cell_type": "code",
   "execution_count": 83,
   "id": "15bf80a4-b45d-4f26-9db9-3c53d662611b",
   "metadata": {},
   "outputs": [
    {
     "name": "stdout",
     "output_type": "stream",
     "text": [
      "Chocolate\n",
      "Vanilla\n",
      "Cone\n"
     ]
    }
   ],
   "source": [
    "ice_cream = ['Chocolate','Vanilla','Cone']\n",
    "x,y,z = ice_cream\n",
    "print(x)\n",
    "print(y)\n",
    "print(z)"
   ]
  },
  {
   "cell_type": "code",
   "execution_count": null,
   "id": "ecfb38ad-a377-44a6-bc5c-2ae272f7dfec",
   "metadata": {},
   "outputs": [],
   "source": [
    "#Camel Case\n",
    "#Test Variable Case\n",
    "testVariableCase = 'Vanilla'\n"
   ]
  },
  {
   "cell_type": "code",
   "execution_count": null,
   "id": "cab163ab-e073-4034-ae69-d2a043bd5737",
   "metadata": {},
   "outputs": [],
   "source": [
    "#Pascal Case\n",
    "#Test Variable Case\n",
    "TestVariableCase = 'Vanilla'"
   ]
  },
  {
   "cell_type": "code",
   "execution_count": null,
   "id": "24cda207-b2fe-44b3-94a4-8aa853dfb994",
   "metadata": {},
   "outputs": [],
   "source": [
    "#Snake Case\n",
    "#Test Variable Case\n",
    "test_variable_case = 'Vanilla'"
   ]
  },
  {
   "cell_type": "code",
   "execution_count": null,
   "id": "4a6b8cb6-37f3-43c6-b7b3-dbed73e655e6",
   "metadata": {},
   "outputs": [],
   "source": [
    "test_var = 'Vanilla'\n",
    "testvar = 'Vanilla'\n",
    "_test_var = 'Vanilla'\n",
    "testVar = 'Vanilla'\n",
    "Testvar'Vanilla'\n",
    "Testvar2 'Vanilla'"
   ]
  },
  {
   "cell_type": "code",
   "execution_count": null,
   "id": "4df8af96-1f1e-48fa-a9d1-0b45736843d8",
   "metadata": {},
   "outputs": [],
   "source": [
    "2testvar= 'vanilla'\n",
    "test-var= 'vanilla'"
   ]
  },
  {
   "cell_type": "code",
   "execution_count": 85,
   "id": "64078a3f-4e3f-43f4-a62c-3c23c47dfa71",
   "metadata": {},
   "outputs": [
    {
     "name": "stdout",
     "output_type": "stream",
     "text": [
      "Ice cream is my favourite.\n"
     ]
    }
   ],
   "source": [
    "x= 'Ice cream is my favourite' + \".\"\n",
    "print(x)\n"
   ]
  },
  {
   "cell_type": "code",
   "execution_count": 87,
   "id": "0fbf89d2-521f-4c43-af5c-9818ddf35e74",
   "metadata": {},
   "outputs": [
    {
     "ename": "SyntaxError",
     "evalue": "invalid character '‘' (U+2018) (1738807149.py, line 1)",
     "output_type": "error",
     "traceback": [
      "\u001b[1;36m  Cell \u001b[1;32mIn[87], line 1\u001b[1;36m\u001b[0m\n\u001b[1;33m    X= ‘Ice cream is my favorite’ + 2\u001b[0m\n\u001b[1;37m       ^\u001b[0m\n\u001b[1;31mSyntaxError\u001b[0m\u001b[1;31m:\u001b[0m invalid character '‘' (U+2018)\n"
     ]
    }
   ],
   "source": [
    "X= ‘Ice cream is my favorite’ + 2   \n",
    "print(X)\n"
   ]
  },
  {
   "cell_type": "code",
   "execution_count": null,
   "id": "b3a055a5-f67b-4025-b151-4873bb9afad0",
   "metadata": {},
   "outputs": [],
   "source": []
  },
  {
   "cell_type": "code",
   "execution_count": 89,
   "id": "6cd81591-95b9-44cc-b9dc-a12ba6456182",
   "metadata": {},
   "outputs": [
    {
     "name": "stdout",
     "output_type": "stream",
     "text": [
      "5\n"
     ]
    }
   ],
   "source": [
    "y=3+2\n",
    "print(y)"
   ]
  },
  {
   "cell_type": "code",
   "execution_count": 107,
   "id": "502a8f9f-e4a4-4bbd-bce1-d779ee474961",
   "metadata": {},
   "outputs": [
    {
     "name": "stdout",
     "output_type": "stream",
     "text": [
      "10\n"
     ]
    }
   ],
   "source": [
    "x= 2\n",
    "y= 4\n",
    "z= 4\n",
    "print(x+y+z)"
   ]
  },
  {
   "cell_type": "code",
   "execution_count": 111,
   "id": "7d1268fe-5f49-4b44-b180-5a5b4bb9266d",
   "metadata": {},
   "outputs": [
    {
     "name": "stdout",
     "output_type": "stream",
     "text": [
      "There are 2  Ice cream\n"
     ]
    }
   ],
   "source": [
    "x= 'There are' \n",
    "y= 2\n",
    "z= ' Ice cream'\n",
    "print(x,y,z)"
   ]
  },
  {
   "cell_type": "code",
   "execution_count": null,
   "id": "d7ccc0ea-7adf-424b-9b16-2994c4b3f873",
   "metadata": {},
   "outputs": [],
   "source": []
  },
  {
   "cell_type": "code",
   "execution_count": null,
   "id": "a51b375a-9885-437c-b742-da7d6fba215a",
   "metadata": {},
   "outputs": [],
   "source": []
  },
  {
   "cell_type": "code",
   "execution_count": null,
   "id": "35b53e91-3134-4156-a643-ca5c74408f2f",
   "metadata": {},
   "outputs": [],
   "source": []
  },
  {
   "cell_type": "code",
   "execution_count": null,
   "id": "e8f21f61-ece1-4e85-94d3-763d61cbf614",
   "metadata": {},
   "outputs": [],
   "source": []
  },
  {
   "cell_type": "code",
   "execution_count": null,
   "id": "2d0de11e-ad64-4c4e-9255-7ece1914bd23",
   "metadata": {},
   "outputs": [],
   "source": []
  },
  {
   "cell_type": "code",
   "execution_count": null,
   "id": "45086d6d-b2ed-49c5-a0ae-b15737796935",
   "metadata": {},
   "outputs": [],
   "source": []
  },
  {
   "cell_type": "code",
   "execution_count": null,
   "id": "aad9bf46-beca-48ad-8660-708fd8e4131e",
   "metadata": {},
   "outputs": [],
   "source": []
  },
  {
   "cell_type": "code",
   "execution_count": null,
   "id": "31227d5a-f2a1-4761-8b4e-97b4f0b77757",
   "metadata": {},
   "outputs": [],
   "source": []
  },
  {
   "cell_type": "code",
   "execution_count": null,
   "id": "edbc99ea-f6ca-46dc-bf53-4d8ba0f89903",
   "metadata": {},
   "outputs": [],
   "source": []
  },
  {
   "cell_type": "code",
   "execution_count": null,
   "id": "235f04d8-6912-4818-9504-a29070dbda23",
   "metadata": {},
   "outputs": [],
   "source": []
  },
  {
   "cell_type": "code",
   "execution_count": null,
   "id": "6e0aa357-3f7f-4ca7-b858-b1cac416e1d8",
   "metadata": {},
   "outputs": [],
   "source": []
  },
  {
   "cell_type": "code",
   "execution_count": null,
   "id": "b1a94a6c-0f5f-44ab-8334-ae0dc5abc286",
   "metadata": {},
   "outputs": [],
   "source": []
  },
  {
   "cell_type": "code",
   "execution_count": null,
   "id": "e3f57473-26fb-4c18-aefb-ea9824f13023",
   "metadata": {},
   "outputs": [],
   "source": []
  },
  {
   "cell_type": "code",
   "execution_count": null,
   "id": "efa7e785-c43f-4b2e-b67a-279bbc6916fd",
   "metadata": {},
   "outputs": [],
   "source": []
  },
  {
   "cell_type": "code",
   "execution_count": null,
   "id": "1bc2e7d6-423a-4652-97f2-502093fa5b2d",
   "metadata": {},
   "outputs": [],
   "source": []
  },
  {
   "cell_type": "code",
   "execution_count": null,
   "id": "57684355-bcfa-436f-b7f0-632f36545953",
   "metadata": {},
   "outputs": [],
   "source": []
  },
  {
   "cell_type": "code",
   "execution_count": null,
   "id": "39559aa5-1698-4086-ba63-dcd4800196c9",
   "metadata": {},
   "outputs": [],
   "source": []
  },
  {
   "cell_type": "code",
   "execution_count": null,
   "id": "bb3a0735-56ed-45a4-a372-f3a2adee798a",
   "metadata": {},
   "outputs": [],
   "source": []
  },
  {
   "cell_type": "code",
   "execution_count": null,
   "id": "ae75ef37-a07f-4d1a-a2c4-a0571f49c795",
   "metadata": {},
   "outputs": [],
   "source": []
  },
  {
   "cell_type": "code",
   "execution_count": null,
   "id": "3e5d6765-3815-4604-9961-bb519fd248d6",
   "metadata": {},
   "outputs": [],
   "source": []
  },
  {
   "cell_type": "code",
   "execution_count": null,
   "id": "20e1ed6e-84e1-4986-b95e-17f3a9d79cab",
   "metadata": {},
   "outputs": [],
   "source": []
  },
  {
   "cell_type": "code",
   "execution_count": null,
   "id": "9b0a799b-c23d-4528-a2c4-24b8673e0040",
   "metadata": {},
   "outputs": [],
   "source": []
  },
  {
   "cell_type": "code",
   "execution_count": null,
   "id": "79a24617-db82-4934-a320-adec900d4493",
   "metadata": {},
   "outputs": [],
   "source": []
  },
  {
   "cell_type": "code",
   "execution_count": null,
   "id": "a53cb3af-8981-401d-a7cd-d540b8f64a2c",
   "metadata": {},
   "outputs": [],
   "source": []
  },
  {
   "cell_type": "code",
   "execution_count": null,
   "id": "b444abde-f331-420c-97b5-867186b88192",
   "metadata": {},
   "outputs": [],
   "source": []
  },
  {
   "cell_type": "code",
   "execution_count": null,
   "id": "1efb03b4-dccd-49ba-8420-0393419b92ce",
   "metadata": {},
   "outputs": [],
   "source": []
  },
  {
   "cell_type": "code",
   "execution_count": null,
   "id": "0d213db7-cb4b-4a6d-9c7b-78ef9c1553c7",
   "metadata": {},
   "outputs": [],
   "source": []
  },
  {
   "cell_type": "code",
   "execution_count": null,
   "id": "1ac79d9b-bb03-4749-b08a-8d3d1b7f93e3",
   "metadata": {},
   "outputs": [],
   "source": []
  },
  {
   "cell_type": "code",
   "execution_count": null,
   "id": "9935d942-dc70-44c9-a915-1f032693601a",
   "metadata": {},
   "outputs": [],
   "source": []
  },
  {
   "cell_type": "code",
   "execution_count": null,
   "id": "55a04ade-b9a5-4a75-8708-7a3104c42564",
   "metadata": {},
   "outputs": [],
   "source": []
  },
  {
   "cell_type": "code",
   "execution_count": null,
   "id": "52a03f3e-bd88-46b3-93bd-542c780979ac",
   "metadata": {},
   "outputs": [],
   "source": []
  },
  {
   "cell_type": "code",
   "execution_count": null,
   "id": "dfc00ab4-3119-4825-b86b-a5105404da1b",
   "metadata": {},
   "outputs": [],
   "source": []
  },
  {
   "cell_type": "code",
   "execution_count": null,
   "id": "b2511b86-e061-411d-8ebc-ca96b43bb702",
   "metadata": {},
   "outputs": [],
   "source": []
  },
  {
   "cell_type": "code",
   "execution_count": null,
   "id": "19c7ae32-ca7f-4f43-a826-4dbf52c875f7",
   "metadata": {},
   "outputs": [],
   "source": []
  },
  {
   "cell_type": "code",
   "execution_count": null,
   "id": "7b2fdd38-637b-433b-be7e-37e37a319189",
   "metadata": {},
   "outputs": [],
   "source": []
  },
  {
   "cell_type": "code",
   "execution_count": null,
   "id": "f236a1cc-7bbd-4db3-a472-7185abeb2515",
   "metadata": {},
   "outputs": [],
   "source": []
  },
  {
   "cell_type": "code",
   "execution_count": null,
   "id": "4b8ced25-5a7a-42c6-a7f1-38430e491b29",
   "metadata": {},
   "outputs": [],
   "source": []
  },
  {
   "cell_type": "code",
   "execution_count": null,
   "id": "eec8255f-5032-430d-9ba9-0fe3bd54c820",
   "metadata": {},
   "outputs": [],
   "source": []
  },
  {
   "cell_type": "code",
   "execution_count": null,
   "id": "962e4a26-2291-45b8-95d5-7eba6ca1164e",
   "metadata": {},
   "outputs": [],
   "source": []
  }
 ],
 "metadata": {
  "kernelspec": {
   "display_name": "Python 3 (ipykernel)",
   "language": "python",
   "name": "python3"
  },
  "language_info": {
   "codemirror_mode": {
    "name": "ipython",
    "version": 3
   },
   "file_extension": ".py",
   "mimetype": "text/x-python",
   "name": "python",
   "nbconvert_exporter": "python",
   "pygments_lexer": "ipython3",
   "version": "3.12.4"
  }
 },
 "nbformat": 4,
 "nbformat_minor": 5
}
